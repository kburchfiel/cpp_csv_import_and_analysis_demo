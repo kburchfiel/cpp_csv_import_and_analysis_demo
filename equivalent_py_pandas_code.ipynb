{
 "cells": [
  {
   "cell_type": "markdown",
   "id": "32399991-35cb-401c-8643-7012a1efe2c0",
   "metadata": {},
   "source": [
    "# Equivalent Python/Pandas code \n",
    "\n",
    "(Running this script will allow us to see how the speeds of C++- and Python-based data analysis approaches differ. However, this is by no means a formal or scientific test.)"
   ]
  },
  {
   "cell_type": "code",
   "execution_count": 1,
   "id": "792732e8-a96f-42a1-a10d-50a2ced62098",
   "metadata": {
    "execution": {
     "iopub.execute_input": "2025-05-22T03:23:57.640156Z",
     "iopub.status.busy": "2025-05-22T03:23:57.640060Z",
     "iopub.status.idle": "2025-05-22T03:23:57.843268Z",
     "shell.execute_reply": "2025-05-22T03:23:57.842872Z",
     "shell.execute_reply.started": "2025-05-22T03:23:57.640144Z"
    }
   },
   "outputs": [
    {
     "name": "stdout",
     "output_type": "stream",
     "text": [
      "Starting program.\n"
     ]
    }
   ],
   "source": [
    "import time\n",
    "start_time = time.time()\n",
    "import pandas as pd\n",
    "print(\"Starting program.\")"
   ]
  },
  {
   "cell_type": "code",
   "execution_count": 2,
   "id": "5c1e0118-bacf-47d6-874d-460b41d6e302",
   "metadata": {
    "execution": {
     "iopub.execute_input": "2025-05-22T03:23:57.843786Z",
     "iopub.status.busy": "2025-05-22T03:23:57.843599Z",
     "iopub.status.idle": "2025-05-22T03:23:59.301172Z",
     "shell.execute_reply": "2025-05-22T03:23:59.300839Z",
     "shell.execute_reply.started": "2025-05-22T03:23:57.843775Z"
    }
   },
   "outputs": [],
   "source": [
    "# Reading in full file:\n",
    "df_bts = pd.read_csv(\"/home/kjb3/D1V1/Documents/Large_Datasets/BTS/T_\\\n",
    "T100_SEGMENT_ALL_CARRIER_2024.csv\")"
   ]
  },
  {
   "cell_type": "code",
   "execution_count": 3,
   "id": "5564f9d5-7e58-49c4-bd33-ec72fa5167e2",
   "metadata": {
    "execution": {
     "iopub.execute_input": "2025-05-22T03:23:59.302079Z",
     "iopub.status.busy": "2025-05-22T03:23:59.301927Z",
     "iopub.status.idle": "2025-05-22T03:23:59.336114Z",
     "shell.execute_reply": "2025-05-22T03:23:59.335840Z",
     "shell.execute_reply.started": "2025-05-22T03:23:59.302060Z"
    }
   },
   "outputs": [
    {
     "data": {
      "text/html": [
       "<div>\n",
       "<style scoped>\n",
       "    .dataframe tbody tr th:only-of-type {\n",
       "        vertical-align: middle;\n",
       "    }\n",
       "\n",
       "    .dataframe tbody tr th {\n",
       "        vertical-align: top;\n",
       "    }\n",
       "\n",
       "    .dataframe thead th {\n",
       "        text-align: right;\n",
       "    }\n",
       "</style>\n",
       "<table border=\"1\" class=\"dataframe\">\n",
       "  <thead>\n",
       "    <tr style=\"text-align: right;\">\n",
       "      <th></th>\n",
       "      <th>UNIQUE_CARRIER</th>\n",
       "      <th>mean_distance</th>\n",
       "    </tr>\n",
       "  </thead>\n",
       "  <tbody>\n",
       "    <tr>\n",
       "      <th>71</th>\n",
       "      <td>AI</td>\n",
       "      <td>7703.880645</td>\n",
       "    </tr>\n",
       "    <tr>\n",
       "      <th>235</th>\n",
       "      <td>QR</td>\n",
       "      <td>7471.545455</td>\n",
       "    </tr>\n",
       "    <tr>\n",
       "      <th>180</th>\n",
       "      <td>KQ</td>\n",
       "      <td>7360.000000</td>\n",
       "    </tr>\n",
       "    <tr>\n",
       "      <th>200</th>\n",
       "      <td>MF</td>\n",
       "      <td>7286.000000</td>\n",
       "    </tr>\n",
       "    <tr>\n",
       "      <th>45</th>\n",
       "      <td>3U</td>\n",
       "      <td>7205.000000</td>\n",
       "    </tr>\n",
       "    <tr>\n",
       "      <th>...</th>\n",
       "      <td>...</td>\n",
       "      <td>...</td>\n",
       "    </tr>\n",
       "    <tr>\n",
       "      <th>282</th>\n",
       "      <td>X4</td>\n",
       "      <td>40.068182</td>\n",
       "    </tr>\n",
       "    <tr>\n",
       "      <th>90</th>\n",
       "      <td>BAS</td>\n",
       "      <td>39.842857</td>\n",
       "    </tr>\n",
       "    <tr>\n",
       "      <th>266</th>\n",
       "      <td>VI</td>\n",
       "      <td>30.649123</td>\n",
       "    </tr>\n",
       "    <tr>\n",
       "      <th>28</th>\n",
       "      <td>2E</td>\n",
       "      <td>18.418079</td>\n",
       "    </tr>\n",
       "    <tr>\n",
       "      <th>210</th>\n",
       "      <td>NEW</td>\n",
       "      <td>17.000000</td>\n",
       "    </tr>\n",
       "  </tbody>\n",
       "</table>\n",
       "<p>300 rows × 2 columns</p>\n",
       "</div>"
      ],
      "text/plain": [
       "    UNIQUE_CARRIER  mean_distance\n",
       "71              AI    7703.880645\n",
       "235             QR    7471.545455\n",
       "180             KQ    7360.000000\n",
       "200             MF    7286.000000\n",
       "45              3U    7205.000000\n",
       "..             ...            ...\n",
       "282             X4      40.068182\n",
       "90             BAS      39.842857\n",
       "266             VI      30.649123\n",
       "28              2E      18.418079\n",
       "210            NEW      17.000000\n",
       "\n",
       "[300 rows x 2 columns]"
      ]
     },
     "execution_count": 3,
     "metadata": {},
     "output_type": "execute_result"
    }
   ],
   "source": [
    "df_airlines_by_dist = df_bts.pivot_table(\n",
    "    index = 'UNIQUE_CARRIER', values = 'DISTANCE', \n",
    "aggfunc = 'mean').reset_index().rename(\n",
    "    columns = {'DISTANCE':'mean_distance'})\n",
    "df_airlines_by_dist.sort_values('mean_distance', ascending = False,\n",
    "                                inplace = True)\n",
    "df_airlines_by_dist"
   ]
  },
  {
   "cell_type": "code",
   "execution_count": 4,
   "id": "1eb5d895-7999-4a02-99c8-695da0d9133a",
   "metadata": {
    "execution": {
     "iopub.execute_input": "2025-05-22T03:23:59.336587Z",
     "iopub.status.busy": "2025-05-22T03:23:59.336478Z",
     "iopub.status.idle": "2025-05-22T03:23:59.397089Z",
     "shell.execute_reply": "2025-05-22T03:23:59.396817Z",
     "shell.execute_reply.started": "2025-05-22T03:23:59.336578Z"
    }
   },
   "outputs": [
    {
     "data": {
      "text/html": [
       "<div>\n",
       "<style scoped>\n",
       "    .dataframe tbody tr th:only-of-type {\n",
       "        vertical-align: middle;\n",
       "    }\n",
       "\n",
       "    .dataframe tbody tr th {\n",
       "        vertical-align: top;\n",
       "    }\n",
       "\n",
       "    .dataframe thead th {\n",
       "        text-align: right;\n",
       "    }\n",
       "</style>\n",
       "<table border=\"1\" class=\"dataframe\">\n",
       "  <thead>\n",
       "    <tr style=\"text-align: right;\">\n",
       "      <th></th>\n",
       "      <th>UNIQUE_CARRIER</th>\n",
       "      <th>ORIGIN</th>\n",
       "      <th>origin_passengers</th>\n",
       "    </tr>\n",
       "  </thead>\n",
       "  <tbody>\n",
       "    <tr>\n",
       "      <th>5900</th>\n",
       "      <td>DL</td>\n",
       "      <td>ATL</td>\n",
       "      <td>38684125.0</td>\n",
       "    </tr>\n",
       "    <tr>\n",
       "      <th>4156</th>\n",
       "      <td>AA</td>\n",
       "      <td>DFW</td>\n",
       "      <td>28487882.0</td>\n",
       "    </tr>\n",
       "    <tr>\n",
       "      <th>4137</th>\n",
       "      <td>AA</td>\n",
       "      <td>CLT</td>\n",
       "      <td>19888475.0</td>\n",
       "    </tr>\n",
       "    <tr>\n",
       "      <th>12033</th>\n",
       "      <td>UA</td>\n",
       "      <td>DEN</td>\n",
       "      <td>15637367.0</td>\n",
       "    </tr>\n",
       "    <tr>\n",
       "      <th>4254</th>\n",
       "      <td>AA</td>\n",
       "      <td>MIA</td>\n",
       "      <td>15209951.0</td>\n",
       "    </tr>\n",
       "    <tr>\n",
       "      <th>...</th>\n",
       "      <td>...</td>\n",
       "      <td>...</td>\n",
       "      <td>...</td>\n",
       "    </tr>\n",
       "    <tr>\n",
       "      <th>11879</th>\n",
       "      <td>U7</td>\n",
       "      <td>HOU</td>\n",
       "      <td>0.0</td>\n",
       "    </tr>\n",
       "    <tr>\n",
       "      <th>3155</th>\n",
       "      <td>5Y</td>\n",
       "      <td>ANC</td>\n",
       "      <td>0.0</td>\n",
       "    </tr>\n",
       "    <tr>\n",
       "      <th>3156</th>\n",
       "      <td>5Y</td>\n",
       "      <td>ARA</td>\n",
       "      <td>0.0</td>\n",
       "    </tr>\n",
       "    <tr>\n",
       "      <th>3157</th>\n",
       "      <td>5Y</td>\n",
       "      <td>ATL</td>\n",
       "      <td>0.0</td>\n",
       "    </tr>\n",
       "    <tr>\n",
       "      <th>11886</th>\n",
       "      <td>U7</td>\n",
       "      <td>JAN</td>\n",
       "      <td>0.0</td>\n",
       "    </tr>\n",
       "  </tbody>\n",
       "</table>\n",
       "<p>14070 rows × 3 columns</p>\n",
       "</div>"
      ],
      "text/plain": [
       "      UNIQUE_CARRIER ORIGIN  origin_passengers\n",
       "5900              DL    ATL         38684125.0\n",
       "4156              AA    DFW         28487882.0\n",
       "4137              AA    CLT         19888475.0\n",
       "12033             UA    DEN         15637367.0\n",
       "4254              AA    MIA         15209951.0\n",
       "...              ...    ...                ...\n",
       "11879             U7    HOU                0.0\n",
       "3155              5Y    ANC                0.0\n",
       "3156              5Y    ARA                0.0\n",
       "3157              5Y    ATL                0.0\n",
       "11886             U7    JAN                0.0\n",
       "\n",
       "[14070 rows x 3 columns]"
      ]
     },
     "execution_count": 4,
     "metadata": {},
     "output_type": "execute_result"
    }
   ],
   "source": [
    "df_hubs_pivot = df_bts.pivot_table(\n",
    "    index = ['UNIQUE_CARRIER', 'ORIGIN'], values = 'PASSENGERS', \n",
    "aggfunc = 'sum').reset_index().rename(\n",
    "    columns = {'PASSENGERS':'origin_passengers'})\n",
    "df_hubs_pivot.sort_values('origin_passengers', ascending = False,\n",
    "                                inplace = True)\n",
    "df_hubs_pivot"
   ]
  },
  {
   "cell_type": "code",
   "execution_count": 5,
   "id": "04e22216-df4d-416b-a610-1ccb02668b25",
   "metadata": {
    "execution": {
     "iopub.execute_input": "2025-05-22T03:23:59.397562Z",
     "iopub.status.busy": "2025-05-22T03:23:59.397453Z",
     "iopub.status.idle": "2025-05-22T03:23:59.403065Z",
     "shell.execute_reply": "2025-05-22T03:23:59.402762Z",
     "shell.execute_reply.started": "2025-05-22T03:23:59.397552Z"
    }
   },
   "outputs": [
    {
     "data": {
      "text/html": [
       "<div>\n",
       "<style scoped>\n",
       "    .dataframe tbody tr th:only-of-type {\n",
       "        vertical-align: middle;\n",
       "    }\n",
       "\n",
       "    .dataframe tbody tr th {\n",
       "        vertical-align: top;\n",
       "    }\n",
       "\n",
       "    .dataframe thead th {\n",
       "        text-align: right;\n",
       "    }\n",
       "</style>\n",
       "<table border=\"1\" class=\"dataframe\">\n",
       "  <thead>\n",
       "    <tr style=\"text-align: right;\">\n",
       "      <th></th>\n",
       "      <th>UNIQUE_CARRIER</th>\n",
       "      <th>ORIGIN</th>\n",
       "      <th>origin_passengers</th>\n",
       "    </tr>\n",
       "  </thead>\n",
       "  <tbody>\n",
       "    <tr>\n",
       "      <th>3370</th>\n",
       "      <td>7C</td>\n",
       "      <td>ICN</td>\n",
       "      <td>221672.0</td>\n",
       "    </tr>\n",
       "    <tr>\n",
       "      <th>3372</th>\n",
       "      <td>7C</td>\n",
       "      <td>SPN</td>\n",
       "      <td>120356.0</td>\n",
       "    </tr>\n",
       "    <tr>\n",
       "      <th>3369</th>\n",
       "      <td>7C</td>\n",
       "      <td>GUM</td>\n",
       "      <td>111796.0</td>\n",
       "    </tr>\n",
       "    <tr>\n",
       "      <th>3371</th>\n",
       "      <td>7C</td>\n",
       "      <td>PUS</td>\n",
       "      <td>8092.0</td>\n",
       "    </tr>\n",
       "  </tbody>\n",
       "</table>\n",
       "</div>"
      ],
      "text/plain": [
       "     UNIQUE_CARRIER ORIGIN  origin_passengers\n",
       "3370             7C    ICN           221672.0\n",
       "3372             7C    SPN           120356.0\n",
       "3369             7C    GUM           111796.0\n",
       "3371             7C    PUS             8092.0"
      ]
     },
     "execution_count": 5,
     "metadata": {},
     "output_type": "execute_result"
    }
   ],
   "source": [
    "df_hubs_pivot.query(\"UNIQUE_CARRIER == '7C'\")"
   ]
  },
  {
   "cell_type": "code",
   "execution_count": 6,
   "id": "0004b5d1-bca3-4a13-ac43-3301fdd50cb4",
   "metadata": {
    "execution": {
     "iopub.execute_input": "2025-05-22T03:23:59.403539Z",
     "iopub.status.busy": "2025-05-22T03:23:59.403437Z",
     "iopub.status.idle": "2025-05-22T03:23:59.416437Z",
     "shell.execute_reply": "2025-05-22T03:23:59.416134Z",
     "shell.execute_reply.started": "2025-05-22T03:23:59.403529Z"
    }
   },
   "outputs": [],
   "source": [
    "df_airlines_by_dist.to_csv('Python_Output/airlines_by_mean_dist.csv', \n",
    "                           index = False)\n",
    "df_hubs_pivot.to_csv('Python_Output/total_origin_pax_by_\\\n",
    "airline_and_airport.csv', index = False)"
   ]
  },
  {
   "cell_type": "code",
   "execution_count": 7,
   "id": "7102f92a-eea5-4d23-8067-d447196bf855",
   "metadata": {
    "execution": {
     "iopub.execute_input": "2025-05-22T03:23:59.417021Z",
     "iopub.status.busy": "2025-05-22T03:23:59.416863Z",
     "iopub.status.idle": "2025-05-22T03:23:59.419212Z",
     "shell.execute_reply": "2025-05-22T03:23:59.418973Z",
     "shell.execute_reply.started": "2025-05-22T03:23:59.417010Z"
    }
   },
   "outputs": [
    {
     "name": "stdout",
     "output_type": "stream",
     "text": [
      "Finsihed running program in 1.777 seconds.\n"
     ]
    }
   ],
   "source": [
    "end_time = time.time()\n",
    "run_time = end_time - start_time\n",
    "print(f\"Finsihed running program in {round(run_time, 3)} seconds.\")"
   ]
  }
 ],
 "metadata": {
  "kernelspec": {
   "display_name": "Python 3 (ipykernel)",
   "language": "python",
   "name": "python3"
  },
  "language_info": {
   "codemirror_mode": {
    "name": "ipython",
    "version": 3
   },
   "file_extension": ".py",
   "mimetype": "text/x-python",
   "name": "python",
   "nbconvert_exporter": "python",
   "pygments_lexer": "ipython3",
   "version": "3.13.1"
  }
 },
 "nbformat": 4,
 "nbformat_minor": 5
}
